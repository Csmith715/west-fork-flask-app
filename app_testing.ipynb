{
 "cells": [
  {
   "cell_type": "code",
   "execution_count": 4,
   "metadata": {
    "collapsed": true
   },
   "outputs": [],
   "source": [
    "import pandas as pd\n",
    "from excel_modifications import FileUpdate"
   ]
  },
  {
   "cell_type": "code",
   "execution_count": 5,
   "outputs": [],
   "source": [
    "file_update = FileUpdate()"
   ],
   "metadata": {
    "collapsed": false,
    "pycharm": {
     "name": "#%%\n"
    }
   }
  },
  {
   "cell_type": "code",
   "execution_count": 6,
   "outputs": [],
   "source": [
    "filepath = '/Users/micksmith/Library/CloudStorage/GoogleDrive-csmith715@gmail.com/My Drive/West Fork/Data Examples/AR Aging Example/Example 2/NMH AR AGING OCT.21-OCT.22.xlsx'"
   ],
   "metadata": {
    "collapsed": false,
    "pycharm": {
     "name": "#%%\n"
    }
   }
  },
  {
   "cell_type": "code",
   "execution_count": 7,
   "outputs": [
    {
     "name": "stderr",
     "output_type": "stream",
     "text": [
      "/Users/micksmith/miniforge3/envs/west-fork-flask-app/lib/python3.10/site-packages/openpyxl/worksheet/header_footer.py:48: UserWarning: Cannot parse header or footer so it will be ignored\n",
      "  warn(\"\"\"Cannot parse header or footer so it will be ignored\"\"\")\n",
      "/Users/micksmith/miniforge3/envs/west-fork-flask-app/lib/python3.10/site-packages/openpyxl/worksheet/header_footer.py:48: UserWarning: Cannot parse header or footer so it will be ignored\n",
      "  warn(\"\"\"Cannot parse header or footer so it will be ignored\"\"\")\n",
      "/Users/micksmith/miniforge3/envs/west-fork-flask-app/lib/python3.10/site-packages/openpyxl/worksheet/header_footer.py:48: UserWarning: Cannot parse header or footer so it will be ignored\n",
      "  warn(\"\"\"Cannot parse header or footer so it will be ignored\"\"\")\n",
      "/Users/micksmith/miniforge3/envs/west-fork-flask-app/lib/python3.10/site-packages/openpyxl/worksheet/header_footer.py:48: UserWarning: Cannot parse header or footer so it will be ignored\n",
      "  warn(\"\"\"Cannot parse header or footer so it will be ignored\"\"\")\n",
      "/Users/micksmith/miniforge3/envs/west-fork-flask-app/lib/python3.10/site-packages/openpyxl/worksheet/header_footer.py:48: UserWarning: Cannot parse header or footer so it will be ignored\n",
      "  warn(\"\"\"Cannot parse header or footer so it will be ignored\"\"\")\n",
      "/Users/micksmith/miniforge3/envs/west-fork-flask-app/lib/python3.10/site-packages/openpyxl/worksheet/header_footer.py:48: UserWarning: Cannot parse header or footer so it will be ignored\n",
      "  warn(\"\"\"Cannot parse header or footer so it will be ignored\"\"\")\n",
      "/Users/micksmith/miniforge3/envs/west-fork-flask-app/lib/python3.10/site-packages/openpyxl/worksheet/header_footer.py:48: UserWarning: Cannot parse header or footer so it will be ignored\n",
      "  warn(\"\"\"Cannot parse header or footer so it will be ignored\"\"\")\n",
      "/Users/micksmith/miniforge3/envs/west-fork-flask-app/lib/python3.10/site-packages/openpyxl/worksheet/header_footer.py:48: UserWarning: Cannot parse header or footer so it will be ignored\n",
      "  warn(\"\"\"Cannot parse header or footer so it will be ignored\"\"\")\n",
      "/Users/micksmith/miniforge3/envs/west-fork-flask-app/lib/python3.10/site-packages/openpyxl/worksheet/header_footer.py:48: UserWarning: Cannot parse header or footer so it will be ignored\n",
      "  warn(\"\"\"Cannot parse header or footer so it will be ignored\"\"\")\n",
      "/Users/micksmith/miniforge3/envs/west-fork-flask-app/lib/python3.10/site-packages/openpyxl/worksheet/header_footer.py:48: UserWarning: Cannot parse header or footer so it will be ignored\n",
      "  warn(\"\"\"Cannot parse header or footer so it will be ignored\"\"\")\n",
      "/Users/micksmith/miniforge3/envs/west-fork-flask-app/lib/python3.10/site-packages/openpyxl/worksheet/header_footer.py:48: UserWarning: Cannot parse header or footer so it will be ignored\n",
      "  warn(\"\"\"Cannot parse header or footer so it will be ignored\"\"\")\n"
     ]
    }
   ],
   "source": [
    "df = file_update.process_single_file(filepath)"
   ],
   "metadata": {
    "collapsed": false,
    "pycharm": {
     "name": "#%%\n"
    }
   }
  },
  {
   "cell_type": "code",
   "execution_count": 8,
   "outputs": [
    {
     "data": {
      "text/plain": "AR Bucket    Payors       Date          30          60          90  \\\n0              BCBS 2021-12-31  1889088.78   633404.59   206362.90   \n1              BCBS 2022-01-31  2589295.53   835365.45   255425.45   \n2              BCBS 2022-02-28  2212275.98   821505.58   286662.23   \n3              BCBS 2022-03-31  1898573.60  1291591.31   481034.47   \n4              BCBS 2022-04-30  2535554.81   736310.48   535830.16   \n..              ...        ...         ...         ...         ...   \n97         SELF PAY 2022-06-30  4123805.12  5804944.29  6358557.48   \n98         SELF PAY 2022-07-31  4724061.18  5726562.99  6826092.63   \n99         SELF PAY 2022-08-31  2167627.86  3030874.76  1981158.18   \n100        SELF PAY 2022-09-30  2969878.94  1925732.64  2820488.02   \n101        SELF PAY 2022-10-31  2967863.29  2629375.90  1885027.47   \n\nAR Bucket         120         150         180     Over 180  \n0           150330.26   149563.57   180379.24   1313693.25  \n1           120940.69   104018.65   169231.12   1396971.65  \n2           246455.20   117198.24   158217.01   1496190.77  \n3           232740.75   210321.05    90063.94    735722.12  \n4           307010.66   122387.85   186875.05    663261.15  \n..                ...         ...         ...          ...  \n97         7115898.31  7275741.63  6746584.41  18615388.76  \n98         6572285.99  6690834.27  7704157.84  15329092.47  \n99         1561417.89  1485137.69  1447612.65   3708453.36  \n100        1843904.73  1534017.24  1341615.59   3639267.43  \n101        2792314.76  1841633.26  1549490.64   3478514.07  \n\n[102 rows x 9 columns]",
      "text/html": "<div>\n<style scoped>\n    .dataframe tbody tr th:only-of-type {\n        vertical-align: middle;\n    }\n\n    .dataframe tbody tr th {\n        vertical-align: top;\n    }\n\n    .dataframe thead th {\n        text-align: right;\n    }\n</style>\n<table border=\"1\" class=\"dataframe\">\n  <thead>\n    <tr style=\"text-align: right;\">\n      <th>AR Bucket</th>\n      <th>Payors</th>\n      <th>Date</th>\n      <th>30</th>\n      <th>60</th>\n      <th>90</th>\n      <th>120</th>\n      <th>150</th>\n      <th>180</th>\n      <th>Over 180</th>\n    </tr>\n  </thead>\n  <tbody>\n    <tr>\n      <th>0</th>\n      <td>BCBS</td>\n      <td>2021-12-31</td>\n      <td>1889088.78</td>\n      <td>633404.59</td>\n      <td>206362.90</td>\n      <td>150330.26</td>\n      <td>149563.57</td>\n      <td>180379.24</td>\n      <td>1313693.25</td>\n    </tr>\n    <tr>\n      <th>1</th>\n      <td>BCBS</td>\n      <td>2022-01-31</td>\n      <td>2589295.53</td>\n      <td>835365.45</td>\n      <td>255425.45</td>\n      <td>120940.69</td>\n      <td>104018.65</td>\n      <td>169231.12</td>\n      <td>1396971.65</td>\n    </tr>\n    <tr>\n      <th>2</th>\n      <td>BCBS</td>\n      <td>2022-02-28</td>\n      <td>2212275.98</td>\n      <td>821505.58</td>\n      <td>286662.23</td>\n      <td>246455.20</td>\n      <td>117198.24</td>\n      <td>158217.01</td>\n      <td>1496190.77</td>\n    </tr>\n    <tr>\n      <th>3</th>\n      <td>BCBS</td>\n      <td>2022-03-31</td>\n      <td>1898573.60</td>\n      <td>1291591.31</td>\n      <td>481034.47</td>\n      <td>232740.75</td>\n      <td>210321.05</td>\n      <td>90063.94</td>\n      <td>735722.12</td>\n    </tr>\n    <tr>\n      <th>4</th>\n      <td>BCBS</td>\n      <td>2022-04-30</td>\n      <td>2535554.81</td>\n      <td>736310.48</td>\n      <td>535830.16</td>\n      <td>307010.66</td>\n      <td>122387.85</td>\n      <td>186875.05</td>\n      <td>663261.15</td>\n    </tr>\n    <tr>\n      <th>...</th>\n      <td>...</td>\n      <td>...</td>\n      <td>...</td>\n      <td>...</td>\n      <td>...</td>\n      <td>...</td>\n      <td>...</td>\n      <td>...</td>\n      <td>...</td>\n    </tr>\n    <tr>\n      <th>97</th>\n      <td>SELF PAY</td>\n      <td>2022-06-30</td>\n      <td>4123805.12</td>\n      <td>5804944.29</td>\n      <td>6358557.48</td>\n      <td>7115898.31</td>\n      <td>7275741.63</td>\n      <td>6746584.41</td>\n      <td>18615388.76</td>\n    </tr>\n    <tr>\n      <th>98</th>\n      <td>SELF PAY</td>\n      <td>2022-07-31</td>\n      <td>4724061.18</td>\n      <td>5726562.99</td>\n      <td>6826092.63</td>\n      <td>6572285.99</td>\n      <td>6690834.27</td>\n      <td>7704157.84</td>\n      <td>15329092.47</td>\n    </tr>\n    <tr>\n      <th>99</th>\n      <td>SELF PAY</td>\n      <td>2022-08-31</td>\n      <td>2167627.86</td>\n      <td>3030874.76</td>\n      <td>1981158.18</td>\n      <td>1561417.89</td>\n      <td>1485137.69</td>\n      <td>1447612.65</td>\n      <td>3708453.36</td>\n    </tr>\n    <tr>\n      <th>100</th>\n      <td>SELF PAY</td>\n      <td>2022-09-30</td>\n      <td>2969878.94</td>\n      <td>1925732.64</td>\n      <td>2820488.02</td>\n      <td>1843904.73</td>\n      <td>1534017.24</td>\n      <td>1341615.59</td>\n      <td>3639267.43</td>\n    </tr>\n    <tr>\n      <th>101</th>\n      <td>SELF PAY</td>\n      <td>2022-10-31</td>\n      <td>2967863.29</td>\n      <td>2629375.90</td>\n      <td>1885027.47</td>\n      <td>2792314.76</td>\n      <td>1841633.26</td>\n      <td>1549490.64</td>\n      <td>3478514.07</td>\n    </tr>\n  </tbody>\n</table>\n<p>102 rows × 9 columns</p>\n</div>"
     },
     "execution_count": 8,
     "metadata": {},
     "output_type": "execute_result"
    }
   ],
   "source": [
    "df"
   ],
   "metadata": {
    "collapsed": false,
    "pycharm": {
     "name": "#%%\n"
    }
   }
  },
  {
   "cell_type": "code",
   "execution_count": 12,
   "outputs": [],
   "source": [
    "tdf = file_update.multi_tab_df"
   ],
   "metadata": {
    "collapsed": false,
    "pycharm": {
     "name": "#%%\n"
    }
   }
  },
  {
   "cell_type": "code",
   "execution_count": 14,
   "outputs": [],
   "source": [
    "tdf.rename(index={'BCBS':'BBBB'},inplace=True)"
   ],
   "metadata": {
    "collapsed": false,
    "pycharm": {
     "name": "#%%\n"
    }
   }
  },
  {
   "cell_type": "code",
   "execution_count": 15,
   "outputs": [
    {
     "data": {
      "text/plain": "AR Bucket                    30          60          90         120  \\\nPayors   Date                                                         \nBBBB     2021-12-31  1889088.78   633404.59   206362.90   150330.26   \n         2022-01-31  2589295.53   835365.45   255425.45   120940.69   \n         2022-02-28  2212275.98   821505.58   286662.23   246455.20   \n         2022-03-31  1898573.60  1291591.31   481034.47   232740.75   \n         2022-04-30  2535554.81   736310.48   535830.16   307010.66   \n...                         ...         ...         ...         ...   \nSELF PAY 2022-06-30  4123805.12  5804944.29  6358557.48  7115898.31   \n         2022-07-31  4724061.18  5726562.99  6826092.63  6572285.99   \n         2022-08-31  2167627.86  3030874.76  1981158.18  1561417.89   \n         2022-09-30  2969878.94  1925732.64  2820488.02  1843904.73   \n         2022-10-31  2967863.29  2629375.90  1885027.47  2792314.76   \n\nAR Bucket                   150         180     Over 180  \nPayors   Date                                             \nBBBB     2021-12-31   149563.57   180379.24   1313693.25  \n         2022-01-31   104018.65   169231.12   1396971.65  \n         2022-02-28   117198.24   158217.01   1496190.77  \n         2022-03-31   210321.05    90063.94    735722.12  \n         2022-04-30   122387.85   186875.05    663261.15  \n...                         ...         ...          ...  \nSELF PAY 2022-06-30  7275741.63  6746584.41  18615388.76  \n         2022-07-31  6690834.27  7704157.84  15329092.47  \n         2022-08-31  1485137.69  1447612.65   3708453.36  \n         2022-09-30  1534017.24  1341615.59   3639267.43  \n         2022-10-31  1841633.26  1549490.64   3478514.07  \n\n[102 rows x 7 columns]",
      "text/html": "<div>\n<style scoped>\n    .dataframe tbody tr th:only-of-type {\n        vertical-align: middle;\n    }\n\n    .dataframe tbody tr th {\n        vertical-align: top;\n    }\n\n    .dataframe thead th {\n        text-align: right;\n    }\n</style>\n<table border=\"1\" class=\"dataframe\">\n  <thead>\n    <tr style=\"text-align: right;\">\n      <th></th>\n      <th>AR Bucket</th>\n      <th>30</th>\n      <th>60</th>\n      <th>90</th>\n      <th>120</th>\n      <th>150</th>\n      <th>180</th>\n      <th>Over 180</th>\n    </tr>\n    <tr>\n      <th>Payors</th>\n      <th>Date</th>\n      <th></th>\n      <th></th>\n      <th></th>\n      <th></th>\n      <th></th>\n      <th></th>\n      <th></th>\n    </tr>\n  </thead>\n  <tbody>\n    <tr>\n      <th rowspan=\"5\" valign=\"top\">BBBB</th>\n      <th>2021-12-31</th>\n      <td>1889088.78</td>\n      <td>633404.59</td>\n      <td>206362.90</td>\n      <td>150330.26</td>\n      <td>149563.57</td>\n      <td>180379.24</td>\n      <td>1313693.25</td>\n    </tr>\n    <tr>\n      <th>2022-01-31</th>\n      <td>2589295.53</td>\n      <td>835365.45</td>\n      <td>255425.45</td>\n      <td>120940.69</td>\n      <td>104018.65</td>\n      <td>169231.12</td>\n      <td>1396971.65</td>\n    </tr>\n    <tr>\n      <th>2022-02-28</th>\n      <td>2212275.98</td>\n      <td>821505.58</td>\n      <td>286662.23</td>\n      <td>246455.20</td>\n      <td>117198.24</td>\n      <td>158217.01</td>\n      <td>1496190.77</td>\n    </tr>\n    <tr>\n      <th>2022-03-31</th>\n      <td>1898573.60</td>\n      <td>1291591.31</td>\n      <td>481034.47</td>\n      <td>232740.75</td>\n      <td>210321.05</td>\n      <td>90063.94</td>\n      <td>735722.12</td>\n    </tr>\n    <tr>\n      <th>2022-04-30</th>\n      <td>2535554.81</td>\n      <td>736310.48</td>\n      <td>535830.16</td>\n      <td>307010.66</td>\n      <td>122387.85</td>\n      <td>186875.05</td>\n      <td>663261.15</td>\n    </tr>\n    <tr>\n      <th>...</th>\n      <th>...</th>\n      <td>...</td>\n      <td>...</td>\n      <td>...</td>\n      <td>...</td>\n      <td>...</td>\n      <td>...</td>\n      <td>...</td>\n    </tr>\n    <tr>\n      <th rowspan=\"5\" valign=\"top\">SELF PAY</th>\n      <th>2022-06-30</th>\n      <td>4123805.12</td>\n      <td>5804944.29</td>\n      <td>6358557.48</td>\n      <td>7115898.31</td>\n      <td>7275741.63</td>\n      <td>6746584.41</td>\n      <td>18615388.76</td>\n    </tr>\n    <tr>\n      <th>2022-07-31</th>\n      <td>4724061.18</td>\n      <td>5726562.99</td>\n      <td>6826092.63</td>\n      <td>6572285.99</td>\n      <td>6690834.27</td>\n      <td>7704157.84</td>\n      <td>15329092.47</td>\n    </tr>\n    <tr>\n      <th>2022-08-31</th>\n      <td>2167627.86</td>\n      <td>3030874.76</td>\n      <td>1981158.18</td>\n      <td>1561417.89</td>\n      <td>1485137.69</td>\n      <td>1447612.65</td>\n      <td>3708453.36</td>\n    </tr>\n    <tr>\n      <th>2022-09-30</th>\n      <td>2969878.94</td>\n      <td>1925732.64</td>\n      <td>2820488.02</td>\n      <td>1843904.73</td>\n      <td>1534017.24</td>\n      <td>1341615.59</td>\n      <td>3639267.43</td>\n    </tr>\n    <tr>\n      <th>2022-10-31</th>\n      <td>2967863.29</td>\n      <td>2629375.90</td>\n      <td>1885027.47</td>\n      <td>2792314.76</td>\n      <td>1841633.26</td>\n      <td>1549490.64</td>\n      <td>3478514.07</td>\n    </tr>\n  </tbody>\n</table>\n<p>102 rows × 7 columns</p>\n</div>"
     },
     "execution_count": 15,
     "metadata": {},
     "output_type": "execute_result"
    }
   ],
   "source": [
    "tdf"
   ],
   "metadata": {
    "collapsed": false,
    "pycharm": {
     "name": "#%%\n"
    }
   }
  },
  {
   "cell_type": "code",
   "execution_count": null,
   "outputs": [],
   "source": [],
   "metadata": {
    "collapsed": false,
    "pycharm": {
     "name": "#%%\n"
    }
   }
  }
 ],
 "metadata": {
  "kernelspec": {
   "display_name": "Python 3",
   "language": "python",
   "name": "python3"
  },
  "language_info": {
   "codemirror_mode": {
    "name": "ipython",
    "version": 2
   },
   "file_extension": ".py",
   "mimetype": "text/x-python",
   "name": "python",
   "nbconvert_exporter": "python",
   "pygments_lexer": "ipython2",
   "version": "2.7.6"
  }
 },
 "nbformat": 4,
 "nbformat_minor": 0
}